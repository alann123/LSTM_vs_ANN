{
 "cells": [
  {
   "cell_type": "markdown",
   "metadata": {},
   "source": [
    "# LSTM vs ANN for Stock price prediction\n"
   ]
  },
  {
   "cell_type": "markdown",
   "metadata": {},
   "source": [
    "# 0. Import the libraries"
   ]
  },
  {
   "cell_type": "code",
   "execution_count": 1,
   "metadata": {},
   "outputs": [
    {
     "name": "stderr",
     "output_type": "stream",
     "text": [
      "Using TensorFlow backend.\n"
     ]
    }
   ],
   "source": [
    "import numpy as np\n",
    "import matplotlib.pyplot as plt\n",
    "import pandas as pd\n",
    "from sklearn.preprocessing import MinMaxScaler\n",
    "from tensorflow.keras import Sequential\n",
    "from tensorflow.keras.layers import Dense, LSTM, Dropout, Flatten \n",
    "from sklearn.metrics import r2_score\n",
    "from keras.callbacks import EarlyStopping"
   ]
  },
  {
   "cell_type": "markdown",
   "metadata": {},
   "source": [
    "# 1. Data Pre-processing"
   ]
  },
  {
   "cell_type": "code",
   "execution_count": 2,
   "metadata": {},
   "outputs": [
    {
     "name": "stdout",
     "output_type": "stream",
     "text": [
      "(2517, 17)\n"
     ]
    },
    {
     "name": "stderr",
     "output_type": "stream",
     "text": [
      "C:\\Users\\ANPC\\AppData\\Roaming\\Python\\Python37\\site-packages\\ipykernel_launcher.py:17: SettingWithCopyWarning: \n",
      "A value is trying to be set on a copy of a slice from a DataFrame.\n",
      "Try using .loc[row_indexer,col_indexer] = value instead\n",
      "\n",
      "See the caveats in the documentation: https://pandas.pydata.org/pandas-docs/stable/user_guide/indexing.html#returning-a-view-versus-a-copy\n",
      "C:\\Users\\ANPC\\AppData\\Roaming\\Python\\Python37\\site-packages\\ipykernel_launcher.py:18: SettingWithCopyWarning: \n",
      "A value is trying to be set on a copy of a slice from a DataFrame.\n",
      "Try using .loc[row_indexer,col_indexer] = value instead\n",
      "\n",
      "See the caveats in the documentation: https://pandas.pydata.org/pandas-docs/stable/user_guide/indexing.html#returning-a-view-versus-a-copy\n",
      "C:\\Users\\ANPC\\AppData\\Roaming\\Python\\Python37\\site-packages\\ipykernel_launcher.py:19: SettingWithCopyWarning: \n",
      "A value is trying to be set on a copy of a slice from a DataFrame.\n",
      "Try using .loc[row_indexer,col_indexer] = value instead\n",
      "\n",
      "See the caveats in the documentation: https://pandas.pydata.org/pandas-docs/stable/user_guide/indexing.html#returning-a-view-versus-a-copy\n",
      "C:\\Users\\ANPC\\AppData\\Roaming\\Python\\Python37\\site-packages\\ipykernel_launcher.py:20: SettingWithCopyWarning: \n",
      "A value is trying to be set on a copy of a slice from a DataFrame.\n",
      "Try using .loc[row_indexer,col_indexer] = value instead\n",
      "\n",
      "See the caveats in the documentation: https://pandas.pydata.org/pandas-docs/stable/user_guide/indexing.html#returning-a-view-versus-a-copy\n",
      "C:\\Users\\ANPC\\AppData\\Roaming\\Python\\Python37\\site-packages\\ipykernel_launcher.py:21: SettingWithCopyWarning: \n",
      "A value is trying to be set on a copy of a slice from a DataFrame.\n",
      "Try using .loc[row_indexer,col_indexer] = value instead\n",
      "\n",
      "See the caveats in the documentation: https://pandas.pydata.org/pandas-docs/stable/user_guide/indexing.html#returning-a-view-versus-a-copy\n"
     ]
    }
   ],
   "source": [
    "read_csv_setting = {'index_col': 0}\n",
    "dataSet = pd.read_csv(r'transformed_dataset.csv',header=[0, 1],**read_csv_setting)\n",
    "\n",
    "tickers = ['AAPL','AMZN','FB','GOOGL','MSFT','^GSPC']\n",
    "def SingleStockData(ticker='MSFT'):        \n",
    "    data= dataSet.xs('MSFT', level=1, axis=1)\n",
    "    data.tail()\n",
    "\n",
    "# please uncomment the section for different stocks\n",
    "#=====================APPLE===========================================\n",
    "stocks= [dataSet.xs(ticker, level=1, axis=1) for ticker in tickers]\n",
    "pirce1= stocks[1]['Close']\n",
    "pirce2= stocks[2]['Close']\n",
    "pirce3= stocks[3]['Close']\n",
    "pirce4= stocks[4]['Close']\n",
    "pirce_SP500= stocks[5]['Close']\n",
    "\n",
    "data = stocks[0]\n",
    "data['price1'] = pirce1\n",
    "data['price2'] = pirce2\n",
    "data['price3'] = pirce3\n",
    "data['price4'] = pirce4\n",
    "data['pirce_S&P'] = pirce_SP500\n",
    "\n",
    "'''\n",
    "#=====================AMAZON===========================================\n",
    "stocks= [dataSet.xs(ticker, level=1, axis=1) for ticker in tickers]\n",
    "pirce1= stocks[0]['Close']\n",
    "pirce2= stocks[2]['Close']\n",
    "pirce3= stocks[3]['Close']\n",
    "pirce4= stocks[4]['Close']\n",
    "pirce_SP500= stocks[5]['Close']\n",
    "\n",
    "data = stocks[1]\n",
    "data['price1'] = pirce1\n",
    "data['price2'] = pirce2\n",
    "data['price3'] = pirce3\n",
    "data['price4'] = pirce4\n",
    "data['pirce_S&P'] = pirce_SP500\n",
    "\n",
    "#=====================FACEBOOK===========================================\n",
    "stocks= [dataSet.xs(ticker, level=1, axis=1) for ticker in tickers]\n",
    "pirce1= stocks[0]['Close']\n",
    "pirce2= stocks[1]['Close']\n",
    "pirce3= stocks[3]['Close']\n",
    "pirce4= stocks[4]['Close']\n",
    "pirce_SP500= stocks[5]['Close']\n",
    "\n",
    "data = stocks[2]\n",
    "data['price1'] = pirce1\n",
    "data['price2'] = pirce2\n",
    "data['price3'] = pirce3\n",
    "data['price4'] = pirce4\n",
    "data['pirce_S&P'] = pirce_SP500\n",
    "\n",
    "#=====================GOOGLE===========================================\n",
    "stocks= [dataSet.xs(ticker, level=1, axis=1) for ticker in tickers]\n",
    "pirce1= stocks[0]['Close']\n",
    "pirce2= stocks[1]['Close']\n",
    "pirce3= stocks[2]['Close']\n",
    "pirce4= stocks[4]['Close']\n",
    "pirce_SP500= stocks[5]['Close']\n",
    "\n",
    "data = stocks[3]\n",
    "data['price1'] = pirce1\n",
    "data['price2'] = pirce2\n",
    "data['price3'] = pirce3\n",
    "data['price4'] = pirce4\n",
    "data['pirce_S&P'] = pirce_SP500\n",
    "\n",
    "#=====================MICROSOFT===========================================\n",
    "stocks= [dataSet.xs(ticker, level=1, axis=1) for ticker in tickers]\n",
    "pirce1= stocks[0]['Close']\n",
    "pirce2= stocks[1]['Close']\n",
    "pirce3= stocks[2]['Close']\n",
    "pirce4= stocks[3]['Close']\n",
    "pirce_SP500= stocks[5]['Close']\n",
    "\n",
    "data = stocks[4]\n",
    "data['price1'] = pirce1\n",
    "data['price2'] = pirce2\n",
    "data['price3'] = pirce3\n",
    "data['price4'] = pirce4\n",
    "data['pirce_S&P'] = pirce_SP500\n",
    "\n",
    "print(data.shape)\n",
    "'''"
   ]
  },
  {
   "cell_type": "code",
   "execution_count": 3,
   "metadata": {},
   "outputs": [
    {
     "data": {
      "text/html": [
       "<div>\n",
       "<style scoped>\n",
       "    .dataframe tbody tr th:only-of-type {\n",
       "        vertical-align: middle;\n",
       "    }\n",
       "\n",
       "    .dataframe tbody tr th {\n",
       "        vertical-align: top;\n",
       "    }\n",
       "\n",
       "    .dataframe thead th {\n",
       "        text-align: right;\n",
       "    }\n",
       "</style>\n",
       "<table border=\"1\" class=\"dataframe\">\n",
       "  <thead>\n",
       "    <tr style=\"text-align: right;\">\n",
       "      <th></th>\n",
       "      <th>Close</th>\n",
       "      <th>Adj Close</th>\n",
       "      <th>Open</th>\n",
       "      <th>High</th>\n",
       "      <th>Low</th>\n",
       "      <th>Volume</th>\n",
       "      <th>Close_ema_20</th>\n",
       "      <th>Return</th>\n",
       "      <th>Return_60</th>\n",
       "      <th>Volatility_20</th>\n",
       "      <th>Volatility_60</th>\n",
       "      <th>RSI_14</th>\n",
       "      <th>price1</th>\n",
       "      <th>price2</th>\n",
       "      <th>price3</th>\n",
       "      <th>price4</th>\n",
       "      <th>pirce_S&amp;P</th>\n",
       "    </tr>\n",
       "  </thead>\n",
       "  <tbody>\n",
       "    <tr>\n",
       "      <th>2010-04-01</th>\n",
       "      <td>33.709999</td>\n",
       "      <td>29.261658</td>\n",
       "      <td>33.915714</td>\n",
       "      <td>34.104286</td>\n",
       "      <td>33.250000</td>\n",
       "      <td>150786300</td>\n",
       "      <td>33.709999</td>\n",
       "      <td>0.000000</td>\n",
       "      <td>0.000000</td>\n",
       "      <td>0.000000</td>\n",
       "      <td>0.000000</td>\n",
       "      <td>0.000000</td>\n",
       "      <td>131.809998</td>\n",
       "      <td>0.000000</td>\n",
       "      <td>284.684692</td>\n",
       "      <td>29.160000</td>\n",
       "      <td>1178.099976</td>\n",
       "    </tr>\n",
       "    <tr>\n",
       "      <th>2010-04-05</th>\n",
       "      <td>34.070000</td>\n",
       "      <td>29.574146</td>\n",
       "      <td>33.568573</td>\n",
       "      <td>34.072857</td>\n",
       "      <td>33.538570</td>\n",
       "      <td>171126900</td>\n",
       "      <td>33.899000</td>\n",
       "      <td>0.010679</td>\n",
       "      <td>0.000000</td>\n",
       "      <td>0.000000</td>\n",
       "      <td>0.000000</td>\n",
       "      <td>100.000000</td>\n",
       "      <td>131.490005</td>\n",
       "      <td>0.000000</td>\n",
       "      <td>285.790802</td>\n",
       "      <td>29.270000</td>\n",
       "      <td>1187.439941</td>\n",
       "    </tr>\n",
       "    <tr>\n",
       "      <th>2010-04-06</th>\n",
       "      <td>34.220001</td>\n",
       "      <td>29.704361</td>\n",
       "      <td>34.028572</td>\n",
       "      <td>34.320000</td>\n",
       "      <td>33.857143</td>\n",
       "      <td>111754300</td>\n",
       "      <td>34.016869</td>\n",
       "      <td>0.004403</td>\n",
       "      <td>0.000000</td>\n",
       "      <td>0.000000</td>\n",
       "      <td>0.000000</td>\n",
       "      <td>100.000000</td>\n",
       "      <td>135.559998</td>\n",
       "      <td>0.000000</td>\n",
       "      <td>284.394409</td>\n",
       "      <td>29.320000</td>\n",
       "      <td>1189.439941</td>\n",
       "    </tr>\n",
       "    <tr>\n",
       "      <th>2010-04-07</th>\n",
       "      <td>34.371429</td>\n",
       "      <td>29.835800</td>\n",
       "      <td>34.221428</td>\n",
       "      <td>34.560001</td>\n",
       "      <td>34.094284</td>\n",
       "      <td>157125500</td>\n",
       "      <td>34.119225</td>\n",
       "      <td>0.004425</td>\n",
       "      <td>0.000000</td>\n",
       "      <td>0.000000</td>\n",
       "      <td>0.000000</td>\n",
       "      <td>100.000000</td>\n",
       "      <td>134.869995</td>\n",
       "      <td>0.000000</td>\n",
       "      <td>282.052063</td>\n",
       "      <td>29.350000</td>\n",
       "      <td>1182.449951</td>\n",
       "    </tr>\n",
       "    <tr>\n",
       "      <th>2010-04-08</th>\n",
       "      <td>34.278572</td>\n",
       "      <td>29.755198</td>\n",
       "      <td>34.348572</td>\n",
       "      <td>34.505714</td>\n",
       "      <td>34.005714</td>\n",
       "      <td>143247300</td>\n",
       "      <td>34.157770</td>\n",
       "      <td>-0.002702</td>\n",
       "      <td>0.000000</td>\n",
       "      <td>0.000000</td>\n",
       "      <td>0.000000</td>\n",
       "      <td>83.740942</td>\n",
       "      <td>140.960007</td>\n",
       "      <td>0.000000</td>\n",
       "      <td>284.029022</td>\n",
       "      <td>29.920000</td>\n",
       "      <td>1186.439941</td>\n",
       "    </tr>\n",
       "    <tr>\n",
       "      <th>...</th>\n",
       "      <td>...</td>\n",
       "      <td>...</td>\n",
       "      <td>...</td>\n",
       "      <td>...</td>\n",
       "      <td>...</td>\n",
       "      <td>...</td>\n",
       "      <td>...</td>\n",
       "      <td>...</td>\n",
       "      <td>...</td>\n",
       "      <td>...</td>\n",
       "      <td>...</td>\n",
       "      <td>...</td>\n",
       "      <td>...</td>\n",
       "      <td>...</td>\n",
       "      <td>...</td>\n",
       "      <td>...</td>\n",
       "      <td>...</td>\n",
       "    </tr>\n",
       "    <tr>\n",
       "      <th>2020-03-25</th>\n",
       "      <td>245.520004</td>\n",
       "      <td>245.520004</td>\n",
       "      <td>250.750000</td>\n",
       "      <td>258.250000</td>\n",
       "      <td>244.300003</td>\n",
       "      <td>75900500</td>\n",
       "      <td>262.464774</td>\n",
       "      <td>-0.005509</td>\n",
       "      <td>-0.152795</td>\n",
       "      <td>0.067645</td>\n",
       "      <td>0.041422</td>\n",
       "      <td>44.490855</td>\n",
       "      <td>1885.839966</td>\n",
       "      <td>156.210007</td>\n",
       "      <td>1101.619995</td>\n",
       "      <td>146.919998</td>\n",
       "      <td>2475.560059</td>\n",
       "    </tr>\n",
       "    <tr>\n",
       "      <th>2020-03-26</th>\n",
       "      <td>258.440002</td>\n",
       "      <td>258.440002</td>\n",
       "      <td>246.520004</td>\n",
       "      <td>258.679993</td>\n",
       "      <td>246.360001</td>\n",
       "      <td>63021800</td>\n",
       "      <td>262.081462</td>\n",
       "      <td>0.052623</td>\n",
       "      <td>-0.113474</td>\n",
       "      <td>0.067392</td>\n",
       "      <td>0.042007</td>\n",
       "      <td>52.061203</td>\n",
       "      <td>1955.489990</td>\n",
       "      <td>163.339996</td>\n",
       "      <td>1162.920044</td>\n",
       "      <td>156.110001</td>\n",
       "      <td>2630.070068</td>\n",
       "    </tr>\n",
       "    <tr>\n",
       "      <th>2020-03-27</th>\n",
       "      <td>247.740005</td>\n",
       "      <td>247.740005</td>\n",
       "      <td>252.750000</td>\n",
       "      <td>255.869995</td>\n",
       "      <td>247.050003</td>\n",
       "      <td>51054200</td>\n",
       "      <td>260.715609</td>\n",
       "      <td>-0.041402</td>\n",
       "      <td>-0.156343</td>\n",
       "      <td>0.068004</td>\n",
       "      <td>0.042310</td>\n",
       "      <td>46.058703</td>\n",
       "      <td>1900.099976</td>\n",
       "      <td>156.789993</td>\n",
       "      <td>1110.260010</td>\n",
       "      <td>149.699997</td>\n",
       "      <td>2541.469971</td>\n",
       "    </tr>\n",
       "    <tr>\n",
       "      <th>2020-03-30</th>\n",
       "      <td>254.809998</td>\n",
       "      <td>254.809998</td>\n",
       "      <td>250.740005</td>\n",
       "      <td>255.520004</td>\n",
       "      <td>249.399994</td>\n",
       "      <td>41994100</td>\n",
       "      <td>260.153170</td>\n",
       "      <td>0.028538</td>\n",
       "      <td>-0.151623</td>\n",
       "      <td>0.064667</td>\n",
       "      <td>0.042373</td>\n",
       "      <td>50.417158</td>\n",
       "      <td>1963.949951</td>\n",
       "      <td>165.949997</td>\n",
       "      <td>1146.310059</td>\n",
       "      <td>160.229996</td>\n",
       "      <td>2626.649902</td>\n",
       "    </tr>\n",
       "    <tr>\n",
       "      <th>2020-03-31</th>\n",
       "      <td>254.289993</td>\n",
       "      <td>254.289993</td>\n",
       "      <td>255.600006</td>\n",
       "      <td>262.489990</td>\n",
       "      <td>252.000000</td>\n",
       "      <td>49250500</td>\n",
       "      <td>259.594772</td>\n",
       "      <td>-0.002041</td>\n",
       "      <td>-0.145043</td>\n",
       "      <td>0.064383</td>\n",
       "      <td>0.042361</td>\n",
       "      <td>50.073792</td>\n",
       "      <td>1949.719971</td>\n",
       "      <td>166.800003</td>\n",
       "      <td>1161.949951</td>\n",
       "      <td>157.710007</td>\n",
       "      <td>2584.590088</td>\n",
       "    </tr>\n",
       "  </tbody>\n",
       "</table>\n",
       "<p>2517 rows × 17 columns</p>\n",
       "</div>"
      ],
      "text/plain": [
       "                 Close   Adj Close        Open        High         Low  \\\n",
       "2010-04-01   33.709999   29.261658   33.915714   34.104286   33.250000   \n",
       "2010-04-05   34.070000   29.574146   33.568573   34.072857   33.538570   \n",
       "2010-04-06   34.220001   29.704361   34.028572   34.320000   33.857143   \n",
       "2010-04-07   34.371429   29.835800   34.221428   34.560001   34.094284   \n",
       "2010-04-08   34.278572   29.755198   34.348572   34.505714   34.005714   \n",
       "...                ...         ...         ...         ...         ...   \n",
       "2020-03-25  245.520004  245.520004  250.750000  258.250000  244.300003   \n",
       "2020-03-26  258.440002  258.440002  246.520004  258.679993  246.360001   \n",
       "2020-03-27  247.740005  247.740005  252.750000  255.869995  247.050003   \n",
       "2020-03-30  254.809998  254.809998  250.740005  255.520004  249.399994   \n",
       "2020-03-31  254.289993  254.289993  255.600006  262.489990  252.000000   \n",
       "\n",
       "               Volume  Close_ema_20    Return  Return_60  Volatility_20  \\\n",
       "2010-04-01  150786300     33.709999  0.000000   0.000000       0.000000   \n",
       "2010-04-05  171126900     33.899000  0.010679   0.000000       0.000000   \n",
       "2010-04-06  111754300     34.016869  0.004403   0.000000       0.000000   \n",
       "2010-04-07  157125500     34.119225  0.004425   0.000000       0.000000   \n",
       "2010-04-08  143247300     34.157770 -0.002702   0.000000       0.000000   \n",
       "...               ...           ...       ...        ...            ...   \n",
       "2020-03-25   75900500    262.464774 -0.005509  -0.152795       0.067645   \n",
       "2020-03-26   63021800    262.081462  0.052623  -0.113474       0.067392   \n",
       "2020-03-27   51054200    260.715609 -0.041402  -0.156343       0.068004   \n",
       "2020-03-30   41994100    260.153170  0.028538  -0.151623       0.064667   \n",
       "2020-03-31   49250500    259.594772 -0.002041  -0.145043       0.064383   \n",
       "\n",
       "            Volatility_60      RSI_14       price1      price2       price3  \\\n",
       "2010-04-01       0.000000    0.000000   131.809998    0.000000   284.684692   \n",
       "2010-04-05       0.000000  100.000000   131.490005    0.000000   285.790802   \n",
       "2010-04-06       0.000000  100.000000   135.559998    0.000000   284.394409   \n",
       "2010-04-07       0.000000  100.000000   134.869995    0.000000   282.052063   \n",
       "2010-04-08       0.000000   83.740942   140.960007    0.000000   284.029022   \n",
       "...                   ...         ...          ...         ...          ...   \n",
       "2020-03-25       0.041422   44.490855  1885.839966  156.210007  1101.619995   \n",
       "2020-03-26       0.042007   52.061203  1955.489990  163.339996  1162.920044   \n",
       "2020-03-27       0.042310   46.058703  1900.099976  156.789993  1110.260010   \n",
       "2020-03-30       0.042373   50.417158  1963.949951  165.949997  1146.310059   \n",
       "2020-03-31       0.042361   50.073792  1949.719971  166.800003  1161.949951   \n",
       "\n",
       "                price4    pirce_S&P  \n",
       "2010-04-01   29.160000  1178.099976  \n",
       "2010-04-05   29.270000  1187.439941  \n",
       "2010-04-06   29.320000  1189.439941  \n",
       "2010-04-07   29.350000  1182.449951  \n",
       "2010-04-08   29.920000  1186.439941  \n",
       "...                ...          ...  \n",
       "2020-03-25  146.919998  2475.560059  \n",
       "2020-03-26  156.110001  2630.070068  \n",
       "2020-03-27  149.699997  2541.469971  \n",
       "2020-03-30  160.229996  2626.649902  \n",
       "2020-03-31  157.710007  2584.590088  \n",
       "\n",
       "[2517 rows x 17 columns]"
      ]
     },
     "execution_count": 3,
     "metadata": {},
     "output_type": "execute_result"
    }
   ],
   "source": [
    "# print the data\n",
    "data"
   ]
  },
  {
   "cell_type": "markdown",
   "metadata": {},
   "source": [
    "### setup the training and testing datasets"
   ]
  },
  {
   "cell_type": "code",
   "execution_count": 4,
   "metadata": {},
   "outputs": [
    {
     "name": "stdout",
     "output_type": "stream",
     "text": [
      "(1257, 17)\n",
      "(1260, 17)\n"
     ]
    }
   ],
   "source": [
    "\n",
    "idate = '2015-03-31'\n",
    "\n",
    "data_training = data[data.index<idate].copy()\n",
    "data_test = data[data.index>=idate].copy()\n",
    "\n",
    "\n",
    "print(data_training.shape)\n",
    "print(data_test.shape)"
   ]
  },
  {
   "cell_type": "markdown",
   "metadata": {},
   "source": [
    "### data normalization"
   ]
  },
  {
   "cell_type": "code",
   "execution_count": 5,
   "metadata": {},
   "outputs": [],
   "source": [
    "scaler = MinMaxScaler(feature_range = (0, 1))\n",
    "scaler_single = MinMaxScaler(feature_range = (0, 1))\n",
    "scaled_data = np.concatenate([scaler_single.fit_transform(data_training[['Close']]),\n",
    "                              scaler.fit_transform(data_training[['Adj Close','Open','High','Low','Volume','Close_ema_20',\n",
    "                                                                  'Return','Return_60','Volatility_20','Volatility_60','RSI_14']]), \n",
    "                                  ], axis = 1)"
   ]
  },
  {
   "cell_type": "markdown",
   "metadata": {},
   "source": [
    "### setup the labels and input sequence"
   ]
  },
  {
   "cell_type": "code",
   "execution_count": 7,
   "metadata": {},
   "outputs": [],
   "source": [
    "X_train = []\n",
    "y_train = []"
   ]
  },
  {
   "cell_type": "code",
   "execution_count": 8,
   "metadata": {},
   "outputs": [],
   "source": [
    "lookback = 60\n",
    "\n",
    "for i in range(lookback, scaled_data.shape[0]):\n",
    "    X_train.append(scaled_data[i-lookback:i])\n",
    "    y_train.append(scaled_data[i, 0])"
   ]
  },
  {
   "cell_type": "code",
   "execution_count": 9,
   "metadata": {
    "scrolled": true
   },
   "outputs": [
    {
     "name": "stdout",
     "output_type": "stream",
     "text": [
      "(1197, 60, 12)\n",
      "(1197,)\n"
     ]
    }
   ],
   "source": [
    "X_train, y_train = np.array(X_train), np.array(y_train)\n",
    "print(X_train.shape)\n",
    "print(y_train.shape)"
   ]
  },
  {
   "cell_type": "markdown",
   "metadata": {},
   "source": [
    "# 2. LSTM Model"
   ]
  },
  {
   "cell_type": "code",
   "execution_count": 10,
   "metadata": {},
   "outputs": [
    {
     "name": "stdout",
     "output_type": "stream",
     "text": [
      "Model: \"sequential\"\n",
      "_________________________________________________________________\n",
      "Layer (type)                 Output Shape              Param #   \n",
      "=================================================================\n",
      "lstm (LSTM)                  (None, 60, 60)            17520     \n",
      "_________________________________________________________________\n",
      "dropout (Dropout)            (None, 60, 60)            0         \n",
      "_________________________________________________________________\n",
      "lstm_1 (LSTM)                (None, 120)               86880     \n",
      "_________________________________________________________________\n",
      "dropout_1 (Dropout)          (None, 120)               0         \n",
      "_________________________________________________________________\n",
      "dense (Dense)                (None, 1)                 121       \n",
      "=================================================================\n",
      "Total params: 104,521\n",
      "Trainable params: 104,521\n",
      "Non-trainable params: 0\n",
      "_________________________________________________________________\n"
     ]
    }
   ],
   "source": [
    "from tensorflow.keras import Sequential\n",
    "from tensorflow.keras.layers import Dense, LSTM, Dropout\n",
    "from tensorflow.keras import optimizers\n",
    "\n",
    "features = X_train.shape[2]\n",
    "input_size= lookback\n",
    "\n",
    "model = Sequential()\n",
    "\n",
    "model.add(LSTM(units = input_size, activation = 'relu', return_sequences = True, input_shape = (X_train.shape[1], features)))\n",
    "model.add(Dropout(0.2))\n",
    "\n",
    "model.add(LSTM(units = 120, activation = 'relu'))\n",
    "model.add(Dropout(0.2))\n",
    "\n",
    "\n",
    "model.add(Dense(units = 1))\n",
    "\n",
    "model.compile(optimizer='adam', loss = 'mean_squared_error')\n",
    "model.summary()"
   ]
  },
  {
   "cell_type": "code",
   "execution_count": 11,
   "metadata": {
    "scrolled": true
   },
   "outputs": [
    {
     "name": "stdout",
     "output_type": "stream",
     "text": [
      "Train on 1197 samples\n",
      "Epoch 1/100\n",
      "1197/1197 [==============================] - 5s 4ms/sample - loss: 0.0270\n",
      "Epoch 2/100\n",
      "1197/1197 [==============================] - 3s 2ms/sample - loss: 0.0033\n",
      "Epoch 3/100\n",
      "1197/1197 [==============================] - 3s 2ms/sample - loss: 0.0024\n",
      "Epoch 4/100\n",
      "1197/1197 [==============================] - 3s 2ms/sample - loss: 0.0025\n",
      "Epoch 5/100\n",
      "1197/1197 [==============================] - 3s 2ms/sample - loss: 0.0023\n",
      "Epoch 6/100\n",
      "1197/1197 [==============================] - 2s 2ms/sample - loss: 0.0025\n",
      "Epoch 7/100\n",
      "1197/1197 [==============================] - 3s 2ms/sample - loss: 0.0023\n",
      "Epoch 8/100\n",
      "1197/1197 [==============================] - 2s 2ms/sample - loss: 0.0021\n",
      "Epoch 9/100\n",
      "1197/1197 [==============================] - 3s 2ms/sample - loss: 0.0018\n",
      "Epoch 10/100\n",
      "1197/1197 [==============================] - 3s 2ms/sample - loss: 0.0020\n",
      "Epoch 11/100\n",
      "1197/1197 [==============================] - 2s 2ms/sample - loss: 0.0018\n",
      "Epoch 12/100\n",
      "1197/1197 [==============================] - 3s 2ms/sample - loss: 0.0023\n",
      "Epoch 13/100\n",
      "1197/1197 [==============================] - 3s 2ms/sample - loss: 0.0020\n",
      "Epoch 14/100\n",
      "1197/1197 [==============================] - 2s 2ms/sample - loss: 0.0017\n",
      "Epoch 15/100\n",
      "1197/1197 [==============================] - 3s 2ms/sample - loss: 0.0018\n",
      "Epoch 16/100\n",
      "1197/1197 [==============================] - 3s 2ms/sample - loss: 0.0020\n",
      "Epoch 17/100\n",
      "1197/1197 [==============================] - 3s 2ms/sample - loss: 0.0016\n",
      "Epoch 18/100\n",
      "1197/1197 [==============================] - 3s 2ms/sample - loss: 0.0016\n",
      "Epoch 19/100\n",
      "1197/1197 [==============================] - 2s 2ms/sample - loss: 0.0015\n",
      "Epoch 20/100\n",
      "1197/1197 [==============================] - 2s 2ms/sample - loss: 0.0015\n",
      "Epoch 21/100\n",
      "1197/1197 [==============================] - 2s 2ms/sample - loss: 0.0015\n",
      "Epoch 22/100\n",
      "1197/1197 [==============================] - 2s 2ms/sample - loss: 0.0017\n",
      "Epoch 23/100\n",
      "1197/1197 [==============================] - 2s 2ms/sample - loss: 0.0013\n",
      "Epoch 24/100\n",
      "1197/1197 [==============================] - 3s 2ms/sample - loss: 0.0014\n",
      "Epoch 25/100\n",
      "1197/1197 [==============================] - 2s 2ms/sample - loss: 0.0013\n",
      "Epoch 26/100\n",
      "1197/1197 [==============================] - 2s 2ms/sample - loss: 0.0013\n",
      "Epoch 27/100\n",
      "1197/1197 [==============================] - 3s 2ms/sample - loss: 0.0014\n",
      "Epoch 28/100\n",
      "1197/1197 [==============================] - 2s 2ms/sample - loss: 0.0013\n",
      "Epoch 29/100\n",
      "1197/1197 [==============================] - 2s 2ms/sample - loss: 0.0013\n",
      "Epoch 30/100\n",
      "1197/1197 [==============================] - 2s 2ms/sample - loss: 0.0012\n",
      "Epoch 31/100\n",
      "1197/1197 [==============================] - 2s 2ms/sample - loss: 0.0011\n",
      "Epoch 32/100\n",
      "1197/1197 [==============================] - 2s 2ms/sample - loss: 0.0012\n",
      "Epoch 33/100\n",
      "1197/1197 [==============================] - 2s 2ms/sample - loss: 0.0013\n",
      "Epoch 34/100\n",
      "1197/1197 [==============================] - 2s 2ms/sample - loss: 0.0011\n",
      "Epoch 35/100\n",
      "1197/1197 [==============================] - 3s 2ms/sample - loss: 0.0012\n",
      "Epoch 36/100\n",
      "1197/1197 [==============================] - 2s 2ms/sample - loss: 0.0011\n",
      "Epoch 00036: early stopping\n"
     ]
    },
    {
     "data": {
      "text/plain": [
       "<tensorflow.python.keras.callbacks.History at 0x24f9bd7fb48>"
      ]
     },
     "execution_count": 11,
     "metadata": {},
     "output_type": "execute_result"
    }
   ],
   "source": [
    "early_stop = EarlyStopping(monitor='loss', patience=5, verbose=True)\n",
    "model.fit(X_train, y_train, epochs=100, batch_size=32, callbacks=[early_stop])"
   ]
  },
  {
   "cell_type": "markdown",
   "metadata": {},
   "source": [
    "### data preprocessing for the testset"
   ]
  },
  {
   "cell_type": "code",
   "execution_count": 12,
   "metadata": {},
   "outputs": [
    {
     "data": {
      "text/html": [
       "<div>\n",
       "<style scoped>\n",
       "    .dataframe tbody tr th:only-of-type {\n",
       "        vertical-align: middle;\n",
       "    }\n",
       "\n",
       "    .dataframe tbody tr th {\n",
       "        vertical-align: top;\n",
       "    }\n",
       "\n",
       "    .dataframe thead th {\n",
       "        text-align: right;\n",
       "    }\n",
       "</style>\n",
       "<table border=\"1\" class=\"dataframe\">\n",
       "  <thead>\n",
       "    <tr style=\"text-align: right;\">\n",
       "      <th></th>\n",
       "      <th>Close</th>\n",
       "      <th>Adj Close</th>\n",
       "      <th>Open</th>\n",
       "      <th>High</th>\n",
       "      <th>Low</th>\n",
       "      <th>Volume</th>\n",
       "      <th>Close_ema_20</th>\n",
       "      <th>Return</th>\n",
       "      <th>Return_60</th>\n",
       "      <th>Volatility_20</th>\n",
       "      <th>Volatility_60</th>\n",
       "      <th>RSI_14</th>\n",
       "      <th>price1</th>\n",
       "      <th>price2</th>\n",
       "      <th>price3</th>\n",
       "      <th>price4</th>\n",
       "      <th>pirce_S&amp;P</th>\n",
       "    </tr>\n",
       "  </thead>\n",
       "  <tbody>\n",
       "    <tr>\n",
       "      <th>1315</th>\n",
       "      <td>245.520004</td>\n",
       "      <td>245.520004</td>\n",
       "      <td>250.750000</td>\n",
       "      <td>258.250000</td>\n",
       "      <td>244.300003</td>\n",
       "      <td>75900500</td>\n",
       "      <td>262.464774</td>\n",
       "      <td>-0.005509</td>\n",
       "      <td>-0.152795</td>\n",
       "      <td>0.067645</td>\n",
       "      <td>0.041422</td>\n",
       "      <td>44.490855</td>\n",
       "      <td>1885.839966</td>\n",
       "      <td>156.210007</td>\n",
       "      <td>1101.619995</td>\n",
       "      <td>146.919998</td>\n",
       "      <td>2475.560059</td>\n",
       "    </tr>\n",
       "    <tr>\n",
       "      <th>1316</th>\n",
       "      <td>258.440002</td>\n",
       "      <td>258.440002</td>\n",
       "      <td>246.520004</td>\n",
       "      <td>258.679993</td>\n",
       "      <td>246.360001</td>\n",
       "      <td>63021800</td>\n",
       "      <td>262.081462</td>\n",
       "      <td>0.052623</td>\n",
       "      <td>-0.113474</td>\n",
       "      <td>0.067392</td>\n",
       "      <td>0.042007</td>\n",
       "      <td>52.061203</td>\n",
       "      <td>1955.489990</td>\n",
       "      <td>163.339996</td>\n",
       "      <td>1162.920044</td>\n",
       "      <td>156.110001</td>\n",
       "      <td>2630.070068</td>\n",
       "    </tr>\n",
       "    <tr>\n",
       "      <th>1317</th>\n",
       "      <td>247.740005</td>\n",
       "      <td>247.740005</td>\n",
       "      <td>252.750000</td>\n",
       "      <td>255.869995</td>\n",
       "      <td>247.050003</td>\n",
       "      <td>51054200</td>\n",
       "      <td>260.715609</td>\n",
       "      <td>-0.041402</td>\n",
       "      <td>-0.156343</td>\n",
       "      <td>0.068004</td>\n",
       "      <td>0.042310</td>\n",
       "      <td>46.058703</td>\n",
       "      <td>1900.099976</td>\n",
       "      <td>156.789993</td>\n",
       "      <td>1110.260010</td>\n",
       "      <td>149.699997</td>\n",
       "      <td>2541.469971</td>\n",
       "    </tr>\n",
       "    <tr>\n",
       "      <th>1318</th>\n",
       "      <td>254.809998</td>\n",
       "      <td>254.809998</td>\n",
       "      <td>250.740005</td>\n",
       "      <td>255.520004</td>\n",
       "      <td>249.399994</td>\n",
       "      <td>41994100</td>\n",
       "      <td>260.153170</td>\n",
       "      <td>0.028538</td>\n",
       "      <td>-0.151623</td>\n",
       "      <td>0.064667</td>\n",
       "      <td>0.042373</td>\n",
       "      <td>50.417158</td>\n",
       "      <td>1963.949951</td>\n",
       "      <td>165.949997</td>\n",
       "      <td>1146.310059</td>\n",
       "      <td>160.229996</td>\n",
       "      <td>2626.649902</td>\n",
       "    </tr>\n",
       "    <tr>\n",
       "      <th>1319</th>\n",
       "      <td>254.289993</td>\n",
       "      <td>254.289993</td>\n",
       "      <td>255.600006</td>\n",
       "      <td>262.489990</td>\n",
       "      <td>252.000000</td>\n",
       "      <td>49250500</td>\n",
       "      <td>259.594772</td>\n",
       "      <td>-0.002041</td>\n",
       "      <td>-0.145043</td>\n",
       "      <td>0.064383</td>\n",
       "      <td>0.042361</td>\n",
       "      <td>50.073792</td>\n",
       "      <td>1949.719971</td>\n",
       "      <td>166.800003</td>\n",
       "      <td>1161.949951</td>\n",
       "      <td>157.710007</td>\n",
       "      <td>2584.590088</td>\n",
       "    </tr>\n",
       "  </tbody>\n",
       "</table>\n",
       "</div>"
      ],
      "text/plain": [
       "           Close   Adj Close        Open        High         Low    Volume  \\\n",
       "1315  245.520004  245.520004  250.750000  258.250000  244.300003  75900500   \n",
       "1316  258.440002  258.440002  246.520004  258.679993  246.360001  63021800   \n",
       "1317  247.740005  247.740005  252.750000  255.869995  247.050003  51054200   \n",
       "1318  254.809998  254.809998  250.740005  255.520004  249.399994  41994100   \n",
       "1319  254.289993  254.289993  255.600006  262.489990  252.000000  49250500   \n",
       "\n",
       "      Close_ema_20    Return  Return_60  Volatility_20  Volatility_60  \\\n",
       "1315    262.464774 -0.005509  -0.152795       0.067645       0.041422   \n",
       "1316    262.081462  0.052623  -0.113474       0.067392       0.042007   \n",
       "1317    260.715609 -0.041402  -0.156343       0.068004       0.042310   \n",
       "1318    260.153170  0.028538  -0.151623       0.064667       0.042373   \n",
       "1319    259.594772 -0.002041  -0.145043       0.064383       0.042361   \n",
       "\n",
       "         RSI_14       price1      price2       price3      price4    pirce_S&P  \n",
       "1315  44.490855  1885.839966  156.210007  1101.619995  146.919998  2475.560059  \n",
       "1316  52.061203  1955.489990  163.339996  1162.920044  156.110001  2630.070068  \n",
       "1317  46.058703  1900.099976  156.789993  1110.260010  149.699997  2541.469971  \n",
       "1318  50.417158  1963.949951  165.949997  1146.310059  160.229996  2626.649902  \n",
       "1319  50.073792  1949.719971  166.800003  1161.949951  157.710007  2584.590088  "
      ]
     },
     "execution_count": 12,
     "metadata": {},
     "output_type": "execute_result"
    }
   ],
   "source": [
    "#prepare test data input\n",
    "\n",
    "# get extra 60 day \n",
    "data_training_original = data[data.index<idate].copy()\n",
    "data_training_original.tail(lookback)\n",
    "past_60_days = data_training_original.tail(lookback)\n",
    "df = past_60_days.append(data_test, ignore_index = True)\n",
    "df.tail()"
   ]
  },
  {
   "cell_type": "code",
   "execution_count": 13,
   "metadata": {},
   "outputs": [
    {
     "data": {
      "text/plain": [
       "((1260, 60, 12), (1260,))"
      ]
     },
     "execution_count": 13,
     "metadata": {},
     "output_type": "execute_result"
    }
   ],
   "source": [
    "inputs = np.concatenate([scaler_single.fit_transform(df[['Close']]),\n",
    "                              scaler.fit_transform(df[['Adj Close','Open','High','Low','Volume','Close_ema_20','Return',\n",
    "                                                       'Return_60','Volatility_20','Volatility_60','RSI_14']]), \n",
    "                                  ], axis = 1)\n",
    "X_test = []\n",
    "y_test = []\n",
    "\n",
    "for i in range(lookback, inputs.shape[0]):\n",
    "    X_test.append(inputs[i-lookback:i])\n",
    "    y_test.append(inputs[i, 0])\n",
    "    \n",
    "X_test, y_test = np.array(X_test), np.array(y_test)\n",
    "X_test.shape, y_test.shape"
   ]
  },
  {
   "cell_type": "markdown",
   "metadata": {},
   "source": [
    "### predict the testset andd visulize the result"
   ]
  },
  {
   "cell_type": "code",
   "execution_count": 14,
   "metadata": {},
   "outputs": [],
   "source": [
    "y_pred = model.predict(X_test)"
   ]
  },
  {
   "cell_type": "code",
   "execution_count": 15,
   "metadata": {},
   "outputs": [],
   "source": [
    "y_pred = scaler_single.inverse_transform(y_pred)\n",
    "y_test = scaler_single.inverse_transform(y_test.reshape(-1, 1))"
   ]
  },
  {
   "cell_type": "code",
   "execution_count": 16,
   "metadata": {},
   "outputs": [
    {
     "data": {
      "image/png": "[encoded data removed]",
      "text/plain": [
       "<Figure size 1008x360 with 1 Axes>"
      ]
     },
     "metadata": {
      "needs_background": "light"
     },
     "output_type": "display_data"
    }
   ],
   "source": [
    "# Visualising the results\n",
    "plt.figure(figsize=(14,5))\n",
    "plt.plot(y_test, color = 'red', label = 'Actual Apple Stock Price')\n",
    "plt.plot(y_pred, color = 'blue', label = 'Predicted Apple Stock Price')\n",
    "plt.title('Apple Stock Price Prediction')\n",
    "plt.xlabel('Time')\n",
    "plt.ylabel('Apple Stock Price')\n",
    "plt.legend()\n",
    "plt.show()"
   ]
  },
  {
   "cell_type": "code",
   "execution_count": 17,
   "metadata": {},
   "outputs": [
    {
     "name": "stdout",
     "output_type": "stream",
     "text": [
      "The R2 score on the Test set is:\t0.982\n"
     ]
    }
   ],
   "source": [
    "#print(\"The R2 score on the Train set is:\\t{:0.3f}\".format(r2_score(y_train, y_train_pred_nn)))\n",
    "print(\"The R2 score on the Test set is:\\t{:0.3f}\".format(r2_score(y_test, y_pred)))"
   ]
  },
  {
   "cell_type": "markdown",
   "metadata": {},
   "source": [
    "# 3. Simple Neural Network Model"
   ]
  },
  {
   "cell_type": "code",
   "execution_count": 19,
   "metadata": {},
   "outputs": [
    {
     "name": "stdout",
     "output_type": "stream",
     "text": [
      "Model: \"sequential_1\"\n",
      "_________________________________________________________________\n",
      "Layer (type)                 Output Shape              Param #   \n",
      "=================================================================\n",
      "dense_1 (Dense)              (None, 60, 60)            780       \n",
      "_________________________________________________________________\n",
      "dropout_2 (Dropout)          (None, 60, 60)            0         \n",
      "_________________________________________________________________\n",
      "flatten (Flatten)            (None, 3600)              0         \n",
      "_________________________________________________________________\n",
      "dense_2 (Dense)              (None, 120)               432120    \n",
      "_________________________________________________________________\n",
      "dropout_3 (Dropout)          (None, 120)               0         \n",
      "_________________________________________________________________\n",
      "dense_3 (Dense)              (None, 1)                 121       \n",
      "=================================================================\n",
      "Total params: 433,021\n",
      "Trainable params: 433,021\n",
      "Non-trainable params: 0\n",
      "_________________________________________________________________\n"
     ]
    }
   ],
   "source": [
    "nn_model = Sequential()\n",
    "nn_model.add(Dense(units=input_size,  activation='relu', input_shape = (X_train.shape[1], features)))\n",
    "nn_model.add(Dropout(0.2))\n",
    "\n",
    "nn_model.add(Flatten())\n",
    "nn_model.add(Dense(units = 120,  activation='relu'))\n",
    "nn_model.add(Dropout(0.2))\n",
    "\n",
    "nn_model.add(Dense(units = 1))\n",
    "\n",
    "nn_model.compile(loss='mean_squared_error', optimizer='adam')\n",
    "early_stop = EarlyStopping(monitor='loss', patience=5, verbose=1)\n",
    "\n",
    "nn_model.summary()"
   ]
  },
  {
   "cell_type": "code",
   "execution_count": 20,
   "metadata": {
    "scrolled": false
   },
   "outputs": [
    {
     "name": "stdout",
     "output_type": "stream",
     "text": [
      "Train on 1197 samples\n",
      "Epoch 1/100\n",
      "1197/1197 [==============================] - 0s 376us/sample - loss: 0.2863\n",
      "Epoch 2/100\n",
      "1197/1197 [==============================] - 0s 77us/sample - loss: 0.0142\n",
      "Epoch 3/100\n",
      "1197/1197 [==============================] - 0s 77us/sample - loss: 0.0116\n",
      "Epoch 4/100\n",
      "1197/1197 [==============================] - 0s 82us/sample - loss: 0.0099\n",
      "Epoch 5/100\n",
      "1197/1197 [==============================] - 0s 83us/sample - loss: 0.0113\n",
      "Epoch 6/100\n",
      "1197/1197 [==============================] - 0s 77us/sample - loss: 0.0089\n",
      "Epoch 7/100\n",
      "1197/1197 [==============================] - 0s 76us/sample - loss: 0.0099\n",
      "Epoch 8/100\n",
      "1197/1197 [==============================] - 0s 80us/sample - loss: 0.0092\n",
      "Epoch 9/100\n",
      "1197/1197 [==============================] - 0s 82us/sample - loss: 0.0100\n",
      "Epoch 10/100\n",
      "1197/1197 [==============================] - 0s 76us/sample - loss: 0.0090\n",
      "Epoch 11/100\n",
      "1197/1197 [==============================] - 0s 76us/sample - loss: 0.0082\n",
      "Epoch 12/100\n",
      "1197/1197 [==============================] - 0s 75us/sample - loss: 0.0077\n",
      "Epoch 13/100\n",
      "1197/1197 [==============================] - 0s 77us/sample - loss: 0.0077\n",
      "Epoch 14/100\n",
      "1197/1197 [==============================] - 0s 78us/sample - loss: 0.0075\n",
      "Epoch 15/100\n",
      "1197/1197 [==============================] - 0s 81us/sample - loss: 0.0079\n",
      "Epoch 16/100\n",
      "1197/1197 [==============================] - 0s 86us/sample - loss: 0.0076\n",
      "Epoch 17/100\n",
      "1197/1197 [==============================] - 0s 78us/sample - loss: 0.0078\n",
      "Epoch 18/100\n",
      "1197/1197 [==============================] - 0s 78us/sample - loss: 0.0068\n",
      "Epoch 19/100\n",
      "1197/1197 [==============================] - 0s 77us/sample - loss: 0.0069\n",
      "Epoch 20/100\n",
      "1197/1197 [==============================] - 0s 77us/sample - loss: 0.0063\n",
      "Epoch 21/100\n",
      "1197/1197 [==============================] - 0s 79us/sample - loss: 0.0062\n",
      "Epoch 22/100\n",
      "1197/1197 [==============================] - 0s 80us/sample - loss: 0.0061\n",
      "Epoch 23/100\n",
      "1197/1197 [==============================] - 0s 77us/sample - loss: 0.0058\n",
      "Epoch 24/100\n",
      "1197/1197 [==============================] - 0s 77us/sample - loss: 0.0051\n",
      "Epoch 25/100\n",
      "1197/1197 [==============================] - 0s 76us/sample - loss: 0.0056\n",
      "Epoch 26/100\n",
      "1197/1197 [==============================] - 0s 76us/sample - loss: 0.0054\n",
      "Epoch 27/100\n",
      "1197/1197 [==============================] - 0s 80us/sample - loss: 0.0051\n",
      "Epoch 28/100\n",
      "1197/1197 [==============================] - 0s 83us/sample - loss: 0.0049\n",
      "Epoch 29/100\n",
      "1197/1197 [==============================] - 0s 77us/sample - loss: 0.0052\n",
      "Epoch 30/100\n",
      "1197/1197 [==============================] - 0s 77us/sample - loss: 0.0044\n",
      "Epoch 31/100\n",
      "1197/1197 [==============================] - 0s 77us/sample - loss: 0.0052\n",
      "Epoch 32/100\n",
      "1197/1197 [==============================] - 0s 84us/sample - loss: 0.0051\n",
      "Epoch 33/100\n",
      "1197/1197 [==============================] - 0s 85us/sample - loss: 0.0044\n",
      "Epoch 34/100\n",
      "1197/1197 [==============================] - 0s 82us/sample - loss: 0.0050\n",
      "Epoch 35/100\n",
      "1197/1197 [==============================] - 0s 78us/sample - loss: 0.0049\n",
      "Epoch 00035: early stopping\n"
     ]
    },
    {
     "data": {
      "text/plain": [
       "<tensorflow.python.keras.callbacks.History at 0x25173fdd548>"
      ]
     },
     "execution_count": 20,
     "metadata": {},
     "output_type": "execute_result"
    }
   ],
   "source": [
    "nn_model.fit(X_train, y_train, epochs=100, batch_size=32, callbacks=[early_stop])"
   ]
  },
  {
   "cell_type": "markdown",
   "metadata": {},
   "source": [
    "### predict the testset and visulize the result"
   ]
  },
  {
   "cell_type": "code",
   "execution_count": 21,
   "metadata": {},
   "outputs": [],
   "source": [
    "y_pred_nn = nn_model.predict(X_test)\n",
    "y_pred_nn = scaler_single.inverse_transform(y_pred_nn)"
   ]
  },
  {
   "cell_type": "code",
   "execution_count": 22,
   "metadata": {},
   "outputs": [
    {
     "data": {
      "image/png": "[encoded data removed]",
      "text/plain": [
       "<Figure size 1008x360 with 1 Axes>"
      ]
     },
     "metadata": {
      "needs_background": "light"
     },
     "output_type": "display_data"
    }
   ],
   "source": [
    "# Visualising the results\n",
    "plt.figure(figsize=(14,5))\n",
    "plt.plot(y_test, color = 'red', label = 'Actual Apple Stock Price')\n",
    "plt.plot(y_pred_nn, color = 'blue', label = 'Predicted Apple Stock Price')\n",
    "plt.title('Apple Stock Price Prediction')\n",
    "plt.xlabel('Time')\n",
    "plt.ylabel('Apple Stock Price')\n",
    "plt.legend()\n",
    "plt.show()"
   ]
  },
  {
   "cell_type": "code",
   "execution_count": 23,
   "metadata": {},
   "outputs": [
    {
     "name": "stdout",
     "output_type": "stream",
     "text": [
      "The R2 score on the Test set is:\t0.906\n"
     ]
    }
   ],
   "source": [
    "print(\"The R2 score on the Test set is:\\t{:0.3f}\".format(r2_score(y_test, y_pred_nn)))"
   ]
  },
  {
   "cell_type": "markdown",
   "metadata": {},
   "source": [
    "# 4. p-value for r-square"
   ]
  },
  {
   "cell_type": "markdown",
   "metadata": {},
   "source": [
    "### trun the testset into ten folds"
   ]
  },
  {
   "cell_type": "code",
   "execution_count": 25,
   "metadata": {},
   "outputs": [],
   "source": [
    "import numpy as np\n",
    "NUM_FOLDS = 10\n",
    "\n",
    "Y_gold_folds = np.array_split(y_test, NUM_FOLDS)\n",
    "Y_sys1_folds = np.array_split(y_pred, NUM_FOLDS)\n",
    "Y_sys2_folds = np.array_split(y_pred_nn, NUM_FOLDS)\n"
   ]
  },
  {
   "cell_type": "markdown",
   "metadata": {},
   "source": [
    "### calculate the r-squre score and p value"
   ]
  },
  {
   "cell_type": "code",
   "execution_count": 26,
   "metadata": {},
   "outputs": [
    {
     "name": "stdout",
     "output_type": "stream",
     "text": [
      "System 1 mu, sigma: 0.5380547191137856 0.4155694171630826\n",
      "System 2 mu, sigma: -1.0833420191270493 1.6658143201661624\n"
     ]
    }
   ],
   "source": [
    "from scipy import stats\n",
    "def score_folds(Ygf, Ysf, scorer, **kwargs):\n",
    "    for Yg, Ys in zip(Ygf, Ysf):\n",
    "        yield scorer(Yg, Ys, **kwargs)\n",
    "        \n",
    "Y_sys1_accuracy = list(score_folds(Y_gold_folds, Y_sys1_folds, r2_score))\n",
    "Y_sys2_accuracy = list(score_folds(Y_gold_folds, Y_sys2_folds, r2_score))\n",
    "\n",
    "print(\"System 1 mu, sigma:\", np.mean(Y_sys1_accuracy), np.std(Y_sys1_accuracy))\n",
    "print(\"System 2 mu, sigma:\", np.mean(Y_sys2_accuracy), np.std(Y_sys2_accuracy))\n",
    "\n",
    "\n"
   ]
  },
  {
   "cell_type": "code",
   "execution_count": 27,
   "metadata": {},
   "outputs": [
    {
     "name": "stdout",
     "output_type": "stream",
     "text": [
      "P-value for H1 sys1 (mu=0.538) > sys2 (mu=-1.083) by r2_score:\n",
      "0.0029221793595462647\n"
     ]
    }
   ],
   "source": [
    "def ttest_across_folds(Ygf, Y1f, Y2f, scorer, **kwargs):\n",
    "    sys1_scores = list(score_folds(Ygf, Y1f, scorer, **kwargs))\n",
    "    sys2_scores = list(score_folds(Ygf, Y2f, scorer, **kwargs))\n",
    "    print(\"P-value for H1 sys1 (mu={:.3f}) > sys2 (mu={:.3f}) by {}:\"\\\n",
    "          .format(np.mean(sys1_scores), np.mean(sys2_scores), scorer.__name__))\n",
    "    print(stats.ttest_rel(sys1_scores, sys2_scores).pvalue*0.5)\n",
    "\n",
    "ttest_across_folds(Y_gold_folds, Y_sys1_folds, Y_sys2_folds, r2_score)"
   ]
  },
  {
   "cell_type": "markdown",
   "metadata": {},
   "source": [
    "# 5. p-value for RMSE "
   ]
  },
  {
   "cell_type": "code",
   "execution_count": 28,
   "metadata": {},
   "outputs": [],
   "source": [
    "from sklearn.metrics import mean_squared_error\n",
    "\n",
    "from math import sqrt\n"
   ]
  },
  {
   "cell_type": "markdown",
   "metadata": {},
   "source": [
    "### turn testset into 10 folds"
   ]
  },
  {
   "cell_type": "code",
   "execution_count": null,
   "metadata": {},
   "outputs": [],
   "source": [
    "import numpy as np\n",
    "NUM_FOLDS = 10\n",
    "\n",
    "Y_gold_folds = np.array_split(y_test, NUM_FOLDS)\n",
    "Y_sys1_folds = np.array_split(y_pred, NUM_FOLDS)\n",
    "Y_sys2_folds = np.array_split(y_pred_nn, NUM_FOLDS)"
   ]
  },
  {
   "cell_type": "markdown",
   "metadata": {},
   "source": [
    "### calculate numer of prediction which is out of 95% confience interval in LSTM and simple nn models"
   ]
  },
  {
   "cell_type": "code",
   "execution_count": 30,
   "metadata": {},
   "outputs": [
    {
     "name": "stdout",
     "output_type": "stream",
     "text": [
      "rmse:\n",
      "7.023522108878896\n",
      "95% confidence interval for lstm:\n",
      "14.047044217757792\n",
      "num_out_of_confidence:\n",
      "34\n",
      "num_tesdata: \n",
      "1260\n",
      "% of data out of confidence: \n",
      "2.6984126984126986\n"
     ]
    }
   ],
   "source": [
    "rmse = sqrt(mean_squared_error(y_test, y_pred))\n",
    "print('rmse:')\n",
    "print(rmse)\n",
    "print('95% confidence interval for lstm:')\n",
    "print(rmse*2)\n",
    "\n",
    "num_out_of_confidence = (y_test-y_pred> rmse*2).sum()\n",
    "print('num_out_of_confidence:')\n",
    "print(num_out_of_confidence)\n",
    "\n",
    "num_tesdata = len(y_test)\n",
    "print('num_tesdata: ')\n",
    "print(num_tesdata)\n",
    "\n",
    "print('% of data out of confidence: ')\n",
    "print(num_out_of_confidence/ num_tesdata*100)"
   ]
  },
  {
   "cell_type": "code",
   "execution_count": 31,
   "metadata": {},
   "outputs": [
    {
     "name": "stdout",
     "output_type": "stream",
     "text": [
      "16.261021242665898\n",
      "95% confidence interval for simple neural network:\n",
      "32.522042485331795\n",
      "rmse:\n",
      "16.261021242665898\n",
      "95% confidence interval for lstm:\n",
      "32.522042485331795\n",
      "num_out_of_confidence:\n",
      "0\n",
      "num_tesdata: \n",
      "1260\n",
      "% of data out of confidence: \n",
      "0.0\n"
     ]
    }
   ],
   "source": [
    "rmse = sqrt(mean_squared_error(y_test, y_pred_nn))\n",
    "print(rmse)\n",
    "print('95% confidence interval for simple neural network:')\n",
    "print(rmse*2)\n",
    "\n",
    "rmse = sqrt(mean_squared_error(y_test, y_pred_nn))\n",
    "print('rmse:')\n",
    "print(rmse)\n",
    "print('95% confidence interval for lstm:')\n",
    "print(rmse*2)\n",
    "\n",
    "num_out_of_confidence = (y_test-y_pred_nn> rmse*2).sum()\n",
    "print('num_out_of_confidence:')\n",
    "print(num_out_of_confidence)\n",
    "\n",
    "num_tesdata = len(y_test)\n",
    "print('num_tesdata: ')\n",
    "print(num_tesdata)\n",
    "\n",
    "print('% of data out of confidence: ')\n",
    "print(num_out_of_confidence/ num_tesdata*100)\n"
   ]
  },
  {
   "cell_type": "markdown",
   "metadata": {},
   "source": [
    "#### calculate the average rmse and pvalues base on 10 folds"
   ]
  },
  {
   "cell_type": "code",
   "execution_count": 32,
   "metadata": {},
   "outputs": [
    {
     "name": "stdout",
     "output_type": "stream",
     "text": [
      "System 1 mu, sigma: 6.554347955378733 2.5239623003787655\n",
      "System 2 mu, sigma: 14.937632252957522 6.425570366110291\n"
     ]
    }
   ],
   "source": [
    "from scipy import stats\n",
    "from sklearn.metrics import mean_squared_error\n",
    "\n",
    "def error_folds(Ygf, Ysf):\n",
    "    for Yg, Ys in zip(Ygf, Ysf):\n",
    "        yield sqrt(mean_squared_error(Yg, Ys))\n",
    "        \n",
    "Y_sys1_rmse = list(error_folds(Y_gold_folds, Y_sys1_folds))\n",
    "Y_sys2_rmse = list(error_folds(Y_gold_folds, Y_sys2_folds))\n",
    "\n",
    "print(\"System 1 mu, sigma:\", np.mean(Y_sys1_rmse), np.std(Y_sys1_rmse))\n",
    "print(\"System 2 mu, sigma:\", np.mean(Y_sys2_rmse), np.std(Y_sys2_rmse))"
   ]
  },
  {
   "cell_type": "code",
   "execution_count": 33,
   "metadata": {},
   "outputs": [
    {
     "name": "stdout",
     "output_type": "stream",
     "text": [
      "0.0007305228249472621\n"
     ]
    }
   ],
   "source": [
    "print(stats.ttest_rel(Y_sys1_rmse, Y_sys2_rmse).pvalue*0.5)"
   ]
  }
 ],
 "metadata": {
  "kernelspec": {
   "display_name": "Python 3",
   "language": "python",
   "name": "python3"
  },
  "language_info": {
   "codemirror_mode": {
    "name": "ipython",
    "version": 3
   },
   "file_extension": ".py",
   "mimetype": "text/x-python",
   "name": "python",
   "nbconvert_exporter": "python",
   "pygments_lexer": "ipython3",
   "version": "3.7.7"
  }
 },
 "nbformat": 4,
 "nbformat_minor": 4
}
